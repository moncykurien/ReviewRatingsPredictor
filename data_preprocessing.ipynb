{
 "cells": [
  {
   "cell_type": "code",
   "execution_count": 152,
   "metadata": {},
   "outputs": [],
   "source": [
    "import pandas as pd\n",
    "import numpy as np"
   ]
  },
  {
   "cell_type": "code",
   "execution_count": 153,
   "metadata": {},
   "outputs": [
    {
     "data": {
      "text/html": [
       "<div>\n",
       "<style scoped>\n",
       "    .dataframe tbody tr th:only-of-type {\n",
       "        vertical-align: middle;\n",
       "    }\n",
       "\n",
       "    .dataframe tbody tr th {\n",
       "        vertical-align: top;\n",
       "    }\n",
       "\n",
       "    .dataframe thead th {\n",
       "        text-align: right;\n",
       "    }\n",
       "</style>\n",
       "<table border=\"1\" class=\"dataframe\">\n",
       "  <thead>\n",
       "    <tr style=\"text-align: right;\">\n",
       "      <th></th>\n",
       "      <th>Reviews</th>\n",
       "      <th>Ratings</th>\n",
       "    </tr>\n",
       "  </thead>\n",
       "  <tbody>\n",
       "    <tr>\n",
       "      <th>0</th>\n",
       "      <td>Super sounds.Super Bass quality and sound adhurs</td>\n",
       "      <td>5</td>\n",
       "    </tr>\n",
       "    <tr>\n",
       "      <th>1</th>\n",
       "      <td>Nice and good product.Very nice product</td>\n",
       "      <td>5</td>\n",
       "    </tr>\n",
       "    <tr>\n",
       "      <th>2</th>\n",
       "      <td>This headphone is awesome. Bass is very excell...</td>\n",
       "      <td>5</td>\n",
       "    </tr>\n",
       "    <tr>\n",
       "      <th>3</th>\n",
       "      <td>Service is awesome.Service is awesome</td>\n",
       "      <td>5</td>\n",
       "    </tr>\n",
       "    <tr>\n",
       "      <th>4</th>\n",
       "      <td>quality.superb sound...😍😍lovely product</td>\n",
       "      <td>5</td>\n",
       "    </tr>\n",
       "  </tbody>\n",
       "</table>\n",
       "</div>"
      ],
      "text/plain": [
       "                                             Reviews  Ratings\n",
       "0   Super sounds.Super Bass quality and sound adhurs        5\n",
       "1            Nice and good product.Very nice product        5\n",
       "2  This headphone is awesome. Bass is very excell...        5\n",
       "3              Service is awesome.Service is awesome        5\n",
       "4            quality.superb sound...😍😍lovely product        5"
      ]
     },
     "execution_count": 153,
     "metadata": {},
     "output_type": "execute_result"
    }
   ],
   "source": [
    "data = pd.read_csv('./combined_data/combined_full_data.csv')\n",
    "data.head()"
   ]
  },
  {
   "cell_type": "code",
   "execution_count": 154,
   "metadata": {},
   "outputs": [
    {
     "data": {
      "text/plain": [
       "(280332, 2)"
      ]
     },
     "execution_count": 154,
     "metadata": {},
     "output_type": "execute_result"
    }
   ],
   "source": [
    "data.shape"
   ]
  },
  {
   "cell_type": "code",
   "execution_count": 155,
   "metadata": {},
   "outputs": [
    {
     "name": "stdout",
     "output_type": "stream",
     "text": [
      "<class 'pandas.core.frame.DataFrame'>\n",
      "RangeIndex: 280332 entries, 0 to 280331\n",
      "Data columns (total 2 columns):\n",
      " #   Column   Non-Null Count   Dtype \n",
      "---  ------   --------------   ----- \n",
      " 0   Reviews  280148 non-null  object\n",
      " 1   Ratings  280332 non-null  int64 \n",
      "dtypes: int64(1), object(1)\n",
      "memory usage: 4.3+ MB\n"
     ]
    }
   ],
   "source": [
    "data.info()"
   ]
  },
  {
   "cell_type": "code",
   "execution_count": 156,
   "metadata": {},
   "outputs": [
    {
     "data": {
      "text/plain": [
       "array([5, 4, 1, 2, 3], dtype=int64)"
      ]
     },
     "execution_count": 156,
     "metadata": {},
     "output_type": "execute_result"
    }
   ],
   "source": [
    "data['Ratings'].unique()"
   ]
  },
  {
   "cell_type": "code",
   "execution_count": 157,
   "metadata": {
    "scrolled": true
   },
   "outputs": [
    {
     "data": {
      "text/plain": [
       "5    129705\n",
       "4     61298\n",
       "1     49773\n",
       "3     24843\n",
       "2     14713\n",
       "Name: Ratings, dtype: int64"
      ]
     },
     "execution_count": 157,
     "metadata": {},
     "output_type": "execute_result"
    }
   ],
   "source": [
    "data['Ratings'].value_counts()"
   ]
  },
  {
   "cell_type": "code",
   "execution_count": 158,
   "metadata": {},
   "outputs": [],
   "source": [
    "data.drop_duplicates(inplace=True)"
   ]
  },
  {
   "cell_type": "code",
   "execution_count": 159,
   "metadata": {},
   "outputs": [
    {
     "data": {
      "text/plain": [
       "(190067, 2)"
      ]
     },
     "execution_count": 159,
     "metadata": {},
     "output_type": "execute_result"
    }
   ],
   "source": [
    "data.shape"
   ]
  },
  {
   "cell_type": "code",
   "execution_count": 160,
   "metadata": {},
   "outputs": [
    {
     "data": {
      "text/plain": [
       "5    83244\n",
       "4    40507\n",
       "1    37385\n",
       "3    17829\n",
       "2    11102\n",
       "Name: Ratings, dtype: int64"
      ]
     },
     "execution_count": 160,
     "metadata": {},
     "output_type": "execute_result"
    }
   ],
   "source": [
    "data['Ratings'].value_counts()"
   ]
  },
  {
   "cell_type": "markdown",
   "metadata": {},
   "source": [
    "# Sampling to balance the data "
   ]
  },
  {
   "cell_type": "markdown",
   "metadata": {},
   "source": [
    "### Downsampling to balance the data"
   ]
  },
  {
   "cell_type": "code",
   "execution_count": 161,
   "metadata": {},
   "outputs": [],
   "source": [
    "size = len(np.where(data['Ratings']==2)[0])"
   ]
  },
  {
   "cell_type": "code",
   "execution_count": 162,
   "metadata": {},
   "outputs": [],
   "source": [
    "rating_5_downsampled = np.random.choice(np.where(data['Ratings']==5)[0],size=size//2, replace = False)\n",
    "rating_4_downsampled = np.random.choice(np.where(data['Ratings']==4)[0],size=size//2, replace = False)\n",
    "rating_1_downsampled = np.random.choice(np.where(data['Ratings']==1)[0],size=size//2, replace = False)\n",
    "rating_3_downsampled = np.random.choice(np.where(data['Ratings']==3)[0],size=size//2, replace = False)\n",
    "rating_2_downsampled = np.random.choice(np.where(data['Ratings']==2)[0],size=size//2, replace = False)"
   ]
  },
  {
   "cell_type": "code",
   "execution_count": 163,
   "metadata": {},
   "outputs": [
    {
     "data": {
      "text/plain": [
       "27755"
      ]
     },
     "execution_count": 163,
     "metadata": {},
     "output_type": "execute_result"
    }
   ],
   "source": [
    "downsampled_train_data_indexes = np.concatenate([rating_1_downsampled, rating_2_downsampled, rating_3_downsampled, rating_4_downsampled, rating_5_downsampled])\n",
    "len(downsampled_train_data_indexes)"
   ]
  },
  {
   "cell_type": "code",
   "execution_count": 164,
   "metadata": {},
   "outputs": [
    {
     "data": {
      "text/html": [
       "<div>\n",
       "<style scoped>\n",
       "    .dataframe tbody tr th:only-of-type {\n",
       "        vertical-align: middle;\n",
       "    }\n",
       "\n",
       "    .dataframe tbody tr th {\n",
       "        vertical-align: top;\n",
       "    }\n",
       "\n",
       "    .dataframe thead th {\n",
       "        text-align: right;\n",
       "    }\n",
       "</style>\n",
       "<table border=\"1\" class=\"dataframe\">\n",
       "  <thead>\n",
       "    <tr style=\"text-align: right;\">\n",
       "      <th></th>\n",
       "      <th>Reviews</th>\n",
       "      <th>Ratings</th>\n",
       "    </tr>\n",
       "  </thead>\n",
       "  <tbody>\n",
       "    <tr>\n",
       "      <th>175458</th>\n",
       "      <td>it is worst in terms of the audio capture and ...</td>\n",
       "      <td>1</td>\n",
       "    </tr>\n",
       "    <tr>\n",
       "      <th>137404</th>\n",
       "      <td>Phone constantly hangs and full load of bloatw...</td>\n",
       "      <td>1</td>\n",
       "    </tr>\n",
       "    <tr>\n",
       "      <th>18835</th>\n",
       "      <td>Stopped working within 25 days ,the right side...</td>\n",
       "      <td>1</td>\n",
       "    </tr>\n",
       "    <tr>\n",
       "      <th>12864</th>\n",
       "      <td>The earphones were good for just two months.. ...</td>\n",
       "      <td>1</td>\n",
       "    </tr>\n",
       "    <tr>\n",
       "      <th>102207</th>\n",
       "      <td>We are facing problem with Mobile is getting s...</td>\n",
       "      <td>1</td>\n",
       "    </tr>\n",
       "    <tr>\n",
       "      <th>...</th>\n",
       "      <td>...</td>\n",
       "      <td>...</td>\n",
       "    </tr>\n",
       "    <tr>\n",
       "      <th>99536</th>\n",
       "      <td>Camera and battery is super</td>\n",
       "      <td>5</td>\n",
       "    </tr>\n",
       "    <tr>\n",
       "      <th>228720</th>\n",
       "      <td>Accuracy ranging +/- 5 points</td>\n",
       "      <td>5</td>\n",
       "    </tr>\n",
       "    <tr>\n",
       "      <th>31009</th>\n",
       "      <td>Audio quality is good, fits nicely in ears, do...</td>\n",
       "      <td>5</td>\n",
       "    </tr>\n",
       "    <tr>\n",
       "      <th>107104</th>\n",
       "      <td>Handset had not been given in the box</td>\n",
       "      <td>5</td>\n",
       "    </tr>\n",
       "    <tr>\n",
       "      <th>64814</th>\n",
       "      <td>Nice service</td>\n",
       "      <td>5</td>\n",
       "    </tr>\n",
       "  </tbody>\n",
       "</table>\n",
       "<p>27755 rows × 2 columns</p>\n",
       "</div>"
      ],
      "text/plain": [
       "                                                  Reviews  Ratings\n",
       "175458  it is worst in terms of the audio capture and ...        1\n",
       "137404  Phone constantly hangs and full load of bloatw...        1\n",
       "18835   Stopped working within 25 days ,the right side...        1\n",
       "12864   The earphones were good for just two months.. ...        1\n",
       "102207  We are facing problem with Mobile is getting s...        1\n",
       "...                                                   ...      ...\n",
       "99536                         Camera and battery is super        5\n",
       "228720                      Accuracy ranging +/- 5 points        5\n",
       "31009   Audio quality is good, fits nicely in ears, do...        5\n",
       "107104              Handset had not been given in the box        5\n",
       "64814                                        Nice service        5\n",
       "\n",
       "[27755 rows x 2 columns]"
      ]
     },
     "execution_count": 164,
     "metadata": {},
     "output_type": "execute_result"
    }
   ],
   "source": [
    "train_data = data.iloc[downsampled_train_data_indexes].copy()\n",
    "train_data"
   ]
  },
  {
   "cell_type": "code",
   "execution_count": 165,
   "metadata": {},
   "outputs": [
    {
     "data": {
      "text/html": [
       "<div>\n",
       "<style scoped>\n",
       "    .dataframe tbody tr th:only-of-type {\n",
       "        vertical-align: middle;\n",
       "    }\n",
       "\n",
       "    .dataframe tbody tr th {\n",
       "        vertical-align: top;\n",
       "    }\n",
       "\n",
       "    .dataframe thead th {\n",
       "        text-align: right;\n",
       "    }\n",
       "</style>\n",
       "<table border=\"1\" class=\"dataframe\">\n",
       "  <thead>\n",
       "    <tr style=\"text-align: right;\">\n",
       "      <th></th>\n",
       "      <th>Reviews</th>\n",
       "      <th>Ratings</th>\n",
       "    </tr>\n",
       "  </thead>\n",
       "  <tbody>\n",
       "    <tr>\n",
       "      <th>0</th>\n",
       "      <td>Super sounds.Super Bass quality and sound adhurs</td>\n",
       "      <td>5</td>\n",
       "    </tr>\n",
       "    <tr>\n",
       "      <th>1</th>\n",
       "      <td>Nice and good product.Very nice product</td>\n",
       "      <td>5</td>\n",
       "    </tr>\n",
       "    <tr>\n",
       "      <th>2</th>\n",
       "      <td>This headphone is awesome. Bass is very excell...</td>\n",
       "      <td>5</td>\n",
       "    </tr>\n",
       "    <tr>\n",
       "      <th>3</th>\n",
       "      <td>Service is awesome.Service is awesome</td>\n",
       "      <td>5</td>\n",
       "    </tr>\n",
       "    <tr>\n",
       "      <th>4</th>\n",
       "      <td>quality.superb sound...😍😍lovely product</td>\n",
       "      <td>5</td>\n",
       "    </tr>\n",
       "    <tr>\n",
       "      <th>...</th>\n",
       "      <td>...</td>\n",
       "      <td>...</td>\n",
       "    </tr>\n",
       "    <tr>\n",
       "      <th>279308</th>\n",
       "      <td>Still haven't received alexa update.</td>\n",
       "      <td>3</td>\n",
       "    </tr>\n",
       "    <tr>\n",
       "      <th>279309</th>\n",
       "      <td>Quality not good.</td>\n",
       "      <td>2</td>\n",
       "    </tr>\n",
       "    <tr>\n",
       "      <th>279310</th>\n",
       "      <td>I am already an user if Amazfit Pace and loved...</td>\n",
       "      <td>5</td>\n",
       "    </tr>\n",
       "    <tr>\n",
       "      <th>279311</th>\n",
       "      <td>Alexa not working. For incoming sms, message b...</td>\n",
       "      <td>4</td>\n",
       "    </tr>\n",
       "    <tr>\n",
       "      <th>279312</th>\n",
       "      <td>Its good ,little changes and will give good ba...</td>\n",
       "      <td>4</td>\n",
       "    </tr>\n",
       "  </tbody>\n",
       "</table>\n",
       "<p>170074 rows × 2 columns</p>\n",
       "</div>"
      ],
      "text/plain": [
       "                                                  Reviews  Ratings\n",
       "0        Super sounds.Super Bass quality and sound adhurs        5\n",
       "1                 Nice and good product.Very nice product        5\n",
       "2       This headphone is awesome. Bass is very excell...        5\n",
       "3                   Service is awesome.Service is awesome        5\n",
       "4                 quality.superb sound...😍😍lovely product        5\n",
       "...                                                   ...      ...\n",
       "279308               Still haven't received alexa update.        3\n",
       "279309                                  Quality not good.        2\n",
       "279310  I am already an user if Amazfit Pace and loved...        5\n",
       "279311  Alexa not working. For incoming sms, message b...        4\n",
       "279312  Its good ,little changes and will give good ba...        4\n",
       "\n",
       "[170074 rows x 2 columns]"
      ]
     },
     "execution_count": 165,
     "metadata": {},
     "output_type": "execute_result"
    }
   ],
   "source": [
    "remaining_data = data[~data.index.isin(downsampled_train_data_indexes)].copy()\n",
    "remaining_data"
   ]
  },
  {
   "cell_type": "code",
   "execution_count": 166,
   "metadata": {},
   "outputs": [],
   "source": [
    "validation_rating_5_downsampled = np.random.choice(np.where(remaining_data['Ratings']==5)[0],size=size//4, replace = False)\n",
    "validation_rating_4_downsampled = np.random.choice(np.where(remaining_data['Ratings']==4)[0],size=size//4, replace = False)\n",
    "validation_rating_1_downsampled = np.random.choice(np.where(remaining_data['Ratings']==1)[0],size=size//4, replace = False)\n",
    "validation_rating_3_downsampled = np.random.choice(np.where(remaining_data['Ratings']==3)[0],size=size//4, replace = False)\n",
    "validation_rating_2_downsampled = np.random.choice(np.where(remaining_data['Ratings']==2)[0],size=size//4, replace = False)"
   ]
  },
  {
   "cell_type": "code",
   "execution_count": 167,
   "metadata": {},
   "outputs": [
    {
     "data": {
      "text/plain": [
       "13875"
      ]
     },
     "execution_count": 167,
     "metadata": {},
     "output_type": "execute_result"
    }
   ],
   "source": [
    "downsampled_val_data_indexes = np.concatenate([validation_rating_1_downsampled, validation_rating_2_downsampled, validation_rating_3_downsampled, validation_rating_4_downsampled, validation_rating_5_downsampled])\n",
    "len(downsampled_val_data_indexes)"
   ]
  },
  {
   "cell_type": "code",
   "execution_count": 168,
   "metadata": {},
   "outputs": [
    {
     "data": {
      "text/plain": [
       "5    2775\n",
       "4    2775\n",
       "3    2775\n",
       "2    2775\n",
       "1    2775\n",
       "Name: Ratings, dtype: int64"
      ]
     },
     "execution_count": 168,
     "metadata": {},
     "output_type": "execute_result"
    }
   ],
   "source": [
    "val_data = remaining_data.iloc[downsampled_val_data_indexes].copy()\n",
    "val_data['Ratings'].value_counts()"
   ]
  },
  {
   "cell_type": "code",
   "execution_count": 169,
   "metadata": {},
   "outputs": [
    {
     "data": {
      "text/html": [
       "<div>\n",
       "<style scoped>\n",
       "    .dataframe tbody tr th:only-of-type {\n",
       "        vertical-align: middle;\n",
       "    }\n",
       "\n",
       "    .dataframe tbody tr th {\n",
       "        vertical-align: top;\n",
       "    }\n",
       "\n",
       "    .dataframe thead th {\n",
       "        text-align: right;\n",
       "    }\n",
       "</style>\n",
       "<table border=\"1\" class=\"dataframe\">\n",
       "  <thead>\n",
       "    <tr style=\"text-align: right;\">\n",
       "      <th></th>\n",
       "      <th>Reviews</th>\n",
       "      <th>Ratings</th>\n",
       "    </tr>\n",
       "  </thead>\n",
       "  <tbody>\n",
       "    <tr>\n",
       "      <th>0</th>\n",
       "      <td>it is worst in terms of the audio capture and ...</td>\n",
       "      <td>1</td>\n",
       "    </tr>\n",
       "    <tr>\n",
       "      <th>1</th>\n",
       "      <td>Phone constantly hangs and full load of bloatw...</td>\n",
       "      <td>1</td>\n",
       "    </tr>\n",
       "    <tr>\n",
       "      <th>2</th>\n",
       "      <td>Stopped working within 25 days ,the right side...</td>\n",
       "      <td>1</td>\n",
       "    </tr>\n",
       "    <tr>\n",
       "      <th>3</th>\n",
       "      <td>The earphones were good for just two months.. ...</td>\n",
       "      <td>1</td>\n",
       "    </tr>\n",
       "    <tr>\n",
       "      <th>4</th>\n",
       "      <td>We are facing problem with Mobile is getting s...</td>\n",
       "      <td>1</td>\n",
       "    </tr>\n",
       "    <tr>\n",
       "      <th>...</th>\n",
       "      <td>...</td>\n",
       "      <td>...</td>\n",
       "    </tr>\n",
       "    <tr>\n",
       "      <th>27750</th>\n",
       "      <td>Camera and battery is super</td>\n",
       "      <td>5</td>\n",
       "    </tr>\n",
       "    <tr>\n",
       "      <th>27751</th>\n",
       "      <td>Accuracy ranging +/- 5 points</td>\n",
       "      <td>5</td>\n",
       "    </tr>\n",
       "    <tr>\n",
       "      <th>27752</th>\n",
       "      <td>Audio quality is good, fits nicely in ears, do...</td>\n",
       "      <td>5</td>\n",
       "    </tr>\n",
       "    <tr>\n",
       "      <th>27753</th>\n",
       "      <td>Handset had not been given in the box</td>\n",
       "      <td>5</td>\n",
       "    </tr>\n",
       "    <tr>\n",
       "      <th>27754</th>\n",
       "      <td>Nice service</td>\n",
       "      <td>5</td>\n",
       "    </tr>\n",
       "  </tbody>\n",
       "</table>\n",
       "<p>27755 rows × 2 columns</p>\n",
       "</div>"
      ],
      "text/plain": [
       "                                                 Reviews  Ratings\n",
       "0      it is worst in terms of the audio capture and ...        1\n",
       "1      Phone constantly hangs and full load of bloatw...        1\n",
       "2      Stopped working within 25 days ,the right side...        1\n",
       "3      The earphones were good for just two months.. ...        1\n",
       "4      We are facing problem with Mobile is getting s...        1\n",
       "...                                                  ...      ...\n",
       "27750                        Camera and battery is super        5\n",
       "27751                      Accuracy ranging +/- 5 points        5\n",
       "27752  Audio quality is good, fits nicely in ears, do...        5\n",
       "27753              Handset had not been given in the box        5\n",
       "27754                                       Nice service        5\n",
       "\n",
       "[27755 rows x 2 columns]"
      ]
     },
     "execution_count": 169,
     "metadata": {},
     "output_type": "execute_result"
    }
   ],
   "source": [
    "train_data.reset_index(inplace=True)\n",
    "train_data.drop(['index'], axis=1, inplace=True)\n",
    "train_data"
   ]
  },
  {
   "cell_type": "code",
   "execution_count": 170,
   "metadata": {},
   "outputs": [
    {
     "data": {
      "text/html": [
       "<div>\n",
       "<style scoped>\n",
       "    .dataframe tbody tr th:only-of-type {\n",
       "        vertical-align: middle;\n",
       "    }\n",
       "\n",
       "    .dataframe tbody tr th {\n",
       "        vertical-align: top;\n",
       "    }\n",
       "\n",
       "    .dataframe thead th {\n",
       "        text-align: right;\n",
       "    }\n",
       "</style>\n",
       "<table border=\"1\" class=\"dataframe\">\n",
       "  <thead>\n",
       "    <tr style=\"text-align: right;\">\n",
       "      <th></th>\n",
       "      <th>Reviews</th>\n",
       "      <th>Ratings</th>\n",
       "    </tr>\n",
       "  </thead>\n",
       "  <tbody>\n",
       "    <tr>\n",
       "      <th>0</th>\n",
       "      <td>Got a broken damage product but shipping box i...</td>\n",
       "      <td>1</td>\n",
       "    </tr>\n",
       "    <tr>\n",
       "      <th>1</th>\n",
       "      <td>Waste of money spo2 and stess sensor is not wo...</td>\n",
       "      <td>1</td>\n",
       "    </tr>\n",
       "    <tr>\n",
       "      <th>2</th>\n",
       "      <td>The device is not at all capable to connect wi...</td>\n",
       "      <td>1</td>\n",
       "    </tr>\n",
       "    <tr>\n",
       "      <th>3</th>\n",
       "      <td>Router not working after 7 days return policy ...</td>\n",
       "      <td>1</td>\n",
       "    </tr>\n",
       "    <tr>\n",
       "      <th>4</th>\n",
       "      <td>I bought the watch on 11 April 2021. The last ...</td>\n",
       "      <td>1</td>\n",
       "    </tr>\n",
       "    <tr>\n",
       "      <th>...</th>\n",
       "      <td>...</td>\n",
       "      <td>...</td>\n",
       "    </tr>\n",
       "    <tr>\n",
       "      <th>13870</th>\n",
       "      <td>Very good product.. Thanks.. Amazon and jbl</td>\n",
       "      <td>5</td>\n",
       "    </tr>\n",
       "    <tr>\n",
       "      <th>13871</th>\n",
       "      <td>More than 10 days of using phone.\\n\\nVery happ...</td>\n",
       "      <td>5</td>\n",
       "    </tr>\n",
       "    <tr>\n",
       "      <th>13872</th>\n",
       "      <td>I have bought a redmi 9 power recently. I am u...</td>\n",
       "      <td>5</td>\n",
       "    </tr>\n",
       "    <tr>\n",
       "      <th>13873</th>\n",
       "      <td>really now days less people know about dual ba...</td>\n",
       "      <td>5</td>\n",
       "    </tr>\n",
       "    <tr>\n",
       "      <th>13874</th>\n",
       "      <td>പൊളി സാധനം. ക്യാമറ അടിപൊളി. ബാറ്ററി അടിപൊളി, എ...</td>\n",
       "      <td>5</td>\n",
       "    </tr>\n",
       "  </tbody>\n",
       "</table>\n",
       "<p>13875 rows × 2 columns</p>\n",
       "</div>"
      ],
      "text/plain": [
       "                                                 Reviews  Ratings\n",
       "0      Got a broken damage product but shipping box i...        1\n",
       "1      Waste of money spo2 and stess sensor is not wo...        1\n",
       "2      The device is not at all capable to connect wi...        1\n",
       "3      Router not working after 7 days return policy ...        1\n",
       "4      I bought the watch on 11 April 2021. The last ...        1\n",
       "...                                                  ...      ...\n",
       "13870        Very good product.. Thanks.. Amazon and jbl        5\n",
       "13871  More than 10 days of using phone.\\n\\nVery happ...        5\n",
       "13872  I have bought a redmi 9 power recently. I am u...        5\n",
       "13873  really now days less people know about dual ba...        5\n",
       "13874  പൊളി സാധനം. ക്യാമറ അടിപൊളി. ബാറ്ററി അടിപൊളി, എ...        5\n",
       "\n",
       "[13875 rows x 2 columns]"
      ]
     },
     "execution_count": 170,
     "metadata": {},
     "output_type": "execute_result"
    }
   ],
   "source": [
    "val_data.reset_index(inplace=True)\n",
    "val_data.drop(['index'], axis=1, inplace=True)\n",
    "val_data"
   ]
  },
  {
   "cell_type": "code",
   "execution_count": 171,
   "metadata": {},
   "outputs": [],
   "source": [
    "train_data.to_csv('./combined_data/combined_downsampled_balanced_train_data.csv', sep =',', index = False)\n",
    "val_data.to_csv('./combined_data/combined_downsampled_balanced_val_data.csv', sep =',', index = False)"
   ]
  },
  {
   "cell_type": "markdown",
   "metadata": {},
   "source": [
    "### OverSampling to balance the data"
   ]
  },
  {
   "cell_type": "code",
   "execution_count": 132,
   "metadata": {},
   "outputs": [],
   "source": [
    "from google_trans_new import google_translator\n",
    "\n",
    "import random\n",
    "sr = random.SystemRandom()\n",
    "\n",
    "language = [\"es\", \"de\", \"fr\", \"ar\", \"te\", \"hi\", \"ja\", \"fa\", \"sq\", \"bg\", \"nl\", \"gu\", \"ig\", \"kk\", \"mt\", \"ps\"]\n",
    "\n",
    "\n",
    "def data_augmentation(message, language, aug_range=1):\n",
    "    augmented_messages = []\n",
    "    if hasattr(message, \"decode\"):\n",
    "        message = message.decode(\"utf-8\")\n",
    "\n",
    "    for j in range(0,aug_range) :\n",
    "        new_message = \"\"\n",
    "        translator = google_translator()\n",
    "        try:\n",
    "            text = translator.translate(message,lang_tgt=sr.choice(language))   ## Converting to random langauge for meaningful variation\n",
    "            text = translator.translate(text,lang_tgt=\"en\")\n",
    "        except:\n",
    "            text = message\n",
    "            pass\n",
    "        augmented_messages.append(str(text))\n",
    "\n",
    "    return augmented_messages"
   ]
  },
  {
   "cell_type": "code",
   "execution_count": 133,
   "metadata": {},
   "outputs": [
    {
     "data": {
      "text/plain": [
       "{5: 83244, 4: 40507, 1: 37385, 3: 17829, 2: 11102}"
      ]
     },
     "execution_count": 133,
     "metadata": {},
     "output_type": "execute_result"
    }
   ],
   "source": [
    "## Dictionary for intent count\n",
    "## Intent is column name\n",
    "ratings_count = data.Ratings.value_counts().to_dict()\n",
    "ratings_count"
   ]
  },
  {
   "cell_type": "code",
   "execution_count": 134,
   "metadata": {},
   "outputs": [
    {
     "data": {
      "text/plain": [
       "83244"
      ]
     },
     "execution_count": 134,
     "metadata": {},
     "output_type": "execute_result"
    }
   ],
   "source": [
    "\n",
    "## Get max intent count to match other minority classes through data augmentation\n",
    "import operator\n",
    "max_rating_count = max(ratings_count.items(), key=operator.itemgetter(1))[1]\n",
    "max_rating_count"
   ]
  },
  {
   "cell_type": "code",
   "execution_count": 14,
   "metadata": {},
   "outputs": [
    {
     "name": "stderr",
     "output_type": "stream",
     "text": [
      "100%|█████████████████████████████████████████████████████████████████████████| 40507/40507 [14:24:41<00:00,  1.28s/it]\n",
      "100%|█████████████████████████████████████████████████████████████████████████| 37385/37385 [12:57:46<00:00,  1.25s/it]\n",
      "100%|█████████████████████████████████████████████████████████████████████████| 17829/17829 [12:15:15<00:00,  2.47s/it]\n",
      "100%|██████████████████████████████████████████████████████████████████████████| 11102/11102 [4:01:41<00:00,  1.31s/it]\n"
     ]
    }
   ],
   "source": [
    "## Loop to interate all messages\n",
    "import numpy as np\n",
    "import math\n",
    "import tqdm\n",
    "newdf = pd.DataFrame()\n",
    "\n",
    "for rating, count in ratings_count.items() :\n",
    "    count_diff = max_rating_count - count    ## Difference to fill\n",
    "    multiplication_count = math.ceil((count_diff)/count)  ## Multiplying a minority classes for multiplication_count times\n",
    "    if (multiplication_count) :\n",
    "        old_reviews_df = pd.DataFrame()\n",
    "        new_reviews_df = pd.DataFrame()\n",
    "        for review in tqdm.tqdm(data[data[\"Ratings\"] == rating][\"Reviews\"]) :\n",
    "            ## Extracting existing minority class batch\n",
    "            dummy1 = pd.DataFrame([review], columns=['Reviews'])\n",
    "            dummy1[\"Ratings\"] = rating\n",
    "            old_reviews_df = old_reviews_df.append(dummy1)\n",
    "            \n",
    "            ## Creating new augmented batch from existing minority class\n",
    "            new_reviews = data_augmentation(review, language, multiplication_count)\n",
    "            dummy2 = pd.DataFrame(new_reviews, columns=['Reviews'])\n",
    "            dummy2[\"Ratings\"] = rating\n",
    "            new_reviews_df = new_reviews_df.append(dummy2)\n",
    "        \n",
    "        ## Select random data points from augmented data\n",
    "        new_reviews_df=new_reviews_df.take(np.random.permutation(len(new_reviews_df))[:count_diff])\n",
    "        \n",
    "        ## Merge existing and augmented data points\n",
    "        newdf = newdf.append([old_reviews_df,new_reviews_df])\n",
    "    else :\n",
    "        newdf = newdf.append(data[data[\"Ratings\"] == rating])"
   ]
  },
  {
   "cell_type": "code",
   "execution_count": 15,
   "metadata": {},
   "outputs": [],
   "source": [
    "newdf.to_csv('./combined_data/combined_balanced_data.csv', sep =',', index = False)"
   ]
  },
  {
   "cell_type": "markdown",
   "metadata": {},
   "source": [
    "### References"
   ]
  },
  {
   "cell_type": "markdown",
   "metadata": {},
   "source": [
    "https://github.com/lushan88a/google_trans_new\n",
    "https://github.com/kothiyayogesh/medium-article-code/blob/master/How%20I%20dealt%20with%20Imbalanced%20text%20dataset/data_augmentation_using_language_translation.ipynb"
   ]
  },
  {
   "cell_type": "code",
   "execution_count": 16,
   "metadata": {},
   "outputs": [
    {
     "data": {
      "text/plain": [
       "(416220, 2)"
      ]
     },
     "execution_count": 16,
     "metadata": {},
     "output_type": "execute_result"
    }
   ],
   "source": [
    "newdf.shape"
   ]
  },
  {
   "cell_type": "code",
   "execution_count": 19,
   "metadata": {},
   "outputs": [
    {
     "data": {
      "text/plain": [
       "5    83244\n",
       "4    83244\n",
       "3    83244\n",
       "2    83244\n",
       "1    83244\n",
       "Name: Ratings, dtype: int64"
      ]
     },
     "execution_count": 19,
     "metadata": {},
     "output_type": "execute_result"
    }
   ],
   "source": [
    "newdf['Ratings'].value_counts()"
   ]
  },
  {
   "cell_type": "code",
   "execution_count": 20,
   "metadata": {},
   "outputs": [
    {
     "data": {
      "text/html": [
       "<div>\n",
       "<style scoped>\n",
       "    .dataframe tbody tr th:only-of-type {\n",
       "        vertical-align: middle;\n",
       "    }\n",
       "\n",
       "    .dataframe tbody tr th {\n",
       "        vertical-align: top;\n",
       "    }\n",
       "\n",
       "    .dataframe thead th {\n",
       "        text-align: right;\n",
       "    }\n",
       "</style>\n",
       "<table border=\"1\" class=\"dataframe\">\n",
       "  <thead>\n",
       "    <tr style=\"text-align: right;\">\n",
       "      <th></th>\n",
       "      <th>Reviews</th>\n",
       "      <th>Ratings</th>\n",
       "    </tr>\n",
       "  </thead>\n",
       "  <tbody>\n",
       "    <tr>\n",
       "      <th>0</th>\n",
       "      <td>Super sounds.Super Bass quality and sound adhurs</td>\n",
       "      <td>5</td>\n",
       "    </tr>\n",
       "    <tr>\n",
       "      <th>1</th>\n",
       "      <td>Nice and good product.Very nice product</td>\n",
       "      <td>5</td>\n",
       "    </tr>\n",
       "    <tr>\n",
       "      <th>2</th>\n",
       "      <td>This headphone is awesome. Bass is very excell...</td>\n",
       "      <td>5</td>\n",
       "    </tr>\n",
       "    <tr>\n",
       "      <th>3</th>\n",
       "      <td>Service is awesome.Service is awesome</td>\n",
       "      <td>5</td>\n",
       "    </tr>\n",
       "    <tr>\n",
       "      <th>4</th>\n",
       "      <td>quality.superb sound...😍😍lovely product</td>\n",
       "      <td>5</td>\n",
       "    </tr>\n",
       "    <tr>\n",
       "      <th>...</th>\n",
       "      <td>...</td>\n",
       "      <td>...</td>\n",
       "    </tr>\n",
       "    <tr>\n",
       "      <th>3</th>\n",
       "      <td>They were alright to begin with, decent sound ...</td>\n",
       "      <td>2</td>\n",
       "    </tr>\n",
       "    <tr>\n",
       "      <th>6</th>\n",
       "      <td>Resmi Note 9 : 4gb ram is warking like 3gb ram...</td>\n",
       "      <td>2</td>\n",
       "    </tr>\n",
       "    <tr>\n",
       "      <th>0</th>\n",
       "      <td>Good, but sometimes it disconnects and reconne...</td>\n",
       "      <td>2</td>\n",
       "    </tr>\n",
       "    <tr>\n",
       "      <th>0</th>\n",
       "      <td>Nice products but colling ficher missing</td>\n",
       "      <td>2</td>\n",
       "    </tr>\n",
       "    <tr>\n",
       "      <th>5</th>\n",
       "      <td>boAt BassHeads 100 in-Ear Wired Earphones with...</td>\n",
       "      <td>2</td>\n",
       "    </tr>\n",
       "  </tbody>\n",
       "</table>\n",
       "<p>416220 rows × 2 columns</p>\n",
       "</div>"
      ],
      "text/plain": [
       "                                              Reviews  Ratings\n",
       "0    Super sounds.Super Bass quality and sound adhurs        5\n",
       "1             Nice and good product.Very nice product        5\n",
       "2   This headphone is awesome. Bass is very excell...        5\n",
       "3               Service is awesome.Service is awesome        5\n",
       "4             quality.superb sound...😍😍lovely product        5\n",
       "..                                                ...      ...\n",
       "3   They were alright to begin with, decent sound ...        2\n",
       "6   Resmi Note 9 : 4gb ram is warking like 3gb ram...        2\n",
       "0   Good, but sometimes it disconnects and reconne...        2\n",
       "0            Nice products but colling ficher missing        2\n",
       "5   boAt BassHeads 100 in-Ear Wired Earphones with...        2\n",
       "\n",
       "[416220 rows x 2 columns]"
      ]
     },
     "execution_count": 20,
     "metadata": {},
     "output_type": "execute_result"
    }
   ],
   "source": [
    "newdf"
   ]
  },
  {
   "cell_type": "markdown",
   "metadata": {},
   "source": [
    "## Data Preprocessing "
   ]
  },
  {
   "cell_type": "code",
   "execution_count": null,
   "metadata": {},
   "outputs": [],
   "source": []
  }
 ],
 "metadata": {
  "kernelspec": {
   "display_name": "Python 3",
   "language": "python",
   "name": "python3"
  },
  "language_info": {
   "codemirror_mode": {
    "name": "ipython",
    "version": 3
   },
   "file_extension": ".py",
   "mimetype": "text/x-python",
   "name": "python",
   "nbconvert_exporter": "python",
   "pygments_lexer": "ipython3",
   "version": "3.7.6"
  }
 },
 "nbformat": 4,
 "nbformat_minor": 4
}
